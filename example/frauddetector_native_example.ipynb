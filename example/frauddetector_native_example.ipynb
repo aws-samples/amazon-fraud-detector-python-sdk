{
 "cells": [
  {
   "cell_type": "markdown",
   "id": "e7c2c159",
   "metadata": {},
   "source": [
    "# AWS Fraud Detector SDK Example \n",
    "\n",
    "Following this guide: https://docs.aws.amazon.com/frauddetector/latest/ug/building-a-model.html  \n",
    "and using the sample data-set from here: https://docs.aws.amazon.com/frauddetector/latest/ug/samples/training_data.zip\n",
    "\n",
    "Also ref the the boto3 FraudDetector API reference: https://boto3.amazonaws.com/v1/documentation/api/latest/reference/services/frauddetector.html"
   ]
  },
  {
   "cell_type": "markdown",
   "id": "ad272724",
   "metadata": {},
   "source": [
    "### Authentication to AWS Account ###\n",
    "This notebook assumes you have exported a token before starting the notbook session, or configured the AWS environment to allow this notebook to allow AWS cloud operations to be executed with the nexcessary AWS Fraud Detector privileges.  \n",
    "\n",
    "***Alternatively***, provide values for the AWS ACCESS KEY, AWS SECRET KEY, and SESSION_TOKEN with the mechanism in the next cell\n",
    "If the session times out and a new token needs to be provided, **restart the notebook kernel**"
   ]
  },
  {
   "cell_type": "code",
   "execution_count": null,
   "id": "b5cb2e36",
   "metadata": {},
   "outputs": [],
   "source": [
    "# Set authentiation to AWS via temporary access tokens\n",
    "import json\n",
    "import os\n",
    "from getpass import getpass\n",
    "ACCESS_KEY = getpass(\"Enter the AWS Access Key:\")\n",
    "SECRET_KEY =  getpass(\"Enter the AWS Secret Key:\")\n",
    "SESSION_TOKEN = getpass(\"Enter the AWS Session Token to use:\")\n",
    "\n",
    "os.environ['AWS_ACCESS_KEY_ID'] = ACCESS_KEY\n",
    "os.environ['AWS_SECRET_ACCESS_KEY'] = SECRET_KEY\n",
    "os.environ['AWS_SESSION_TOKEN'] = SESSION_TOKEN"
   ]
  },
  {
   "cell_type": "markdown",
   "id": "5d1c3ace",
   "metadata": {},
   "source": [
    "### Amazon Fraud Detector SDK Client"
   ]
  },
  {
   "cell_type": "code",
   "execution_count": null,
   "id": "d7377f83",
   "metadata": {},
   "outputs": [],
   "source": [
    "import boto3\n",
    "fraudDetector = boto3.client('frauddetector')"
   ]
  },
  {
   "cell_type": "code",
   "execution_count": null,
   "id": "f27ddfba",
   "metadata": {},
   "outputs": [],
   "source": [
    "response = fraudDetector.get_detectors()\n",
    "print(response)"
   ]
  },
  {
   "cell_type": "markdown",
   "id": "05007e9f",
   "metadata": {},
   "source": [
    "### Sample Data\n",
    "\n",
    "Sample data for building a model is in this repo in `training_data` folder.  Unzip it and copy it to an S3 bucket so the Amazon Fraud Detection services can use it."
   ]
  },
  {
   "cell_type": "code",
   "execution_count": null,
   "id": "d4fb4bde",
   "metadata": {},
   "outputs": [],
   "source": [
    "# Set BUCKET_PATH to where the training data is located (change this!)\n",
    "BUCKET_PATH='s3://<my_bucket>/training/'"
   ]
  },
  {
   "cell_type": "code",
   "execution_count": null,
   "id": "cd94363b",
   "metadata": {},
   "outputs": [],
   "source": [
    "TRAINING_DATA=BUCKET_PATH+'registration_data_20K_minimum.csv'\n",
    "print(TRAINING_DATA)"
   ]
  },
  {
   "cell_type": "code",
   "execution_count": null,
   "id": "e51e9b49",
   "metadata": {},
   "outputs": [],
   "source": [
    "# Load the data into Pandas for easy access and exploring the data\n",
    "import pandas as pd\n",
    "#training_df = pd.read_csv(TRAINING_DATA)   # Can't do this if public access not allowed\n",
    "training_df = pd.read_csv('training_data/registration_data_20K_minimum.csv.zip')"
   ]
  },
  {
   "cell_type": "code",
   "execution_count": null,
   "id": "0ee9b370",
   "metadata": {},
   "outputs": [],
   "source": [
    "training_df.head()"
   ]
  },
  {
   "cell_type": "markdown",
   "id": "e921e311",
   "metadata": {},
   "source": [
    "## Amazon Fraud Detector Role Privileges\n",
    "See the following link for guidance on recommendations for setting up an IAM user and role with `AmazonFraudDetectorFullAccessPolicy` associated with it:  \n",
    "https://docs.aws.amazon.com/frauddetector/latest/ug/security-iam.html"
   ]
  },
  {
   "cell_type": "markdown",
   "id": "ab358043",
   "metadata": {},
   "source": [
    "##### Role ARN\n",
    "Identify the ARN of the AWS Role that will running the Amazon Fraud Detection operations.  Set this in the `ROLE_ARN` variable below."
   ]
  },
  {
   "cell_type": "code",
   "execution_count": null,
   "id": "28530468",
   "metadata": {},
   "outputs": [],
   "source": [
    "# ARN URL for Fraud Detector operations\n",
    "ROLE_ARN = 'arn:aws:iam::999999999999:role/RoleToUseForFraudDetector'"
   ]
  },
  {
   "cell_type": "markdown",
   "id": "ff902f56",
   "metadata": {},
   "source": [
    "In the console, grant the policy  `AmazonFraudDetectorFullAccessPolicy` to the role referred to by the ROLE_ARN above.\n",
    "  \n",
    "It is necessary to update the trust relationship for the specified role by specifying Amazon Fraud Detector as a trusted entity.\n",
    "https://docs.aws.amazon.com/frauddetector/latest/ug/security_iam_troubleshoot.html#security_iam_troubleshoot-assume-role  \n",
    "- Open the IAM console  \n",
    "- In the navigation pane choose Roles. \n",
    "- Choose the name of the role that you want to modify, and choose the Trust relationships tab. \n",
    "- Choose Edit trust relationship. \n",
    "- Under Policy Document, paste the following, and then choose Update Trust Policy.  \n",
    "\n",
    "```\n",
    "       {\n",
    "           \"Version\": \"2012-10-17\",\n",
    "           \"Statement\": [ {\n",
    "               \"Effect\": \"Allow\",\n",
    "               \"Principal\": {\n",
    "                   \"Service\": \"frauddetector.amazonaws.com\"\n",
    "               },\n",
    "               \"Action\": \"sts:AssumeRole\"\n",
    "           } ]\n",
    "       }\n",
    "```\n",
    "\n"
   ]
  },
  {
   "cell_type": "markdown",
   "id": "e3a7953e",
   "metadata": {},
   "source": [
    "## Create variables, entity type, and labels"
   ]
  },
  {
   "cell_type": "markdown",
   "id": "6a39167c",
   "metadata": {},
   "source": [
    "### Variable Types Concept\n",
    "\n",
    "You can optionally assign variables a variable type. Variable types represent common data elements used during fraud predictions.  \n",
    "Only variables with an associated variable type can be used for model training.  \n",
    "  \n",
    "Variables must have a data type for the data element that the variable represents. For variables that are mapped to a variable type, the data type is pre-selected. \n",
    "\n",
    "Possible data types include: String, Integer, Boolean, Float.\n",
    "\n",
    "ref: https://docs.aws.amazon.com/frauddetector/latest/ug/create-a-variable.html"
   ]
  },
  {
   "cell_type": "markdown",
   "id": "837f62d9",
   "metadata": {},
   "source": [
    "Variable types ref : https://boto3.amazonaws.com/v1/documentation/api/latest/reference/services/frauddetector.html#FraudDetector.Client.get_variables  \n",
    "(Boto Docs ver 1.18.46) - FraudDetector client\n",
    "also: https://docs.aws.amazon.com/frauddetector/latest/ug/create-a-variable.html"
   ]
  },
  {
   "cell_type": "markdown",
   "id": "6e1005eb",
   "metadata": {},
   "source": [
    "\n",
    "| Category | Variable type | Description | Data type | Example  |\n",
    "| - | - | - | - | - |\n",
    "| Custom | NUMERIC | Any variable that can be represented as a real number | Float | 1.224 |  \n",
    "| Custom | CATEGORICAL | Any variable that describes categories, segments, or groups  | String |  Large |  \n",
    "| Custom | FREE_FORM_TEXT | Any free form text that is captured as part of the event. For example, a customer review or comment.   | String |  Example of a free form text input |\n",
    "| Email |\tEMAIL_ADDRESS |\tEmail address collected during the event |\tString | abc@domain.com |\n",
    "| IP address | IP_ADDRESS | IP address collected during the event | String | 1.1.1.1 |\n",
    "| Phone number | PHONE_NUMBER | Phone number collected during the event | String | 1-123-456-7891 |\n",
    "| Browser/Device | USERAGENT | User agent collected during the event | String | Mozilla/5.0 (Windows NT 10.0; Win64; x64; rv:68.0) Gecko/20100101 |\n",
    "| Browser/Device | FINGERPRINT | Unique identifier for a device | String | sadfow987u234 |\n",
    "| Payment Instrument |\tPAYMENT_TYPE | Payment instrument type used for payment during the event | String | Credit Card | CARD_BIN | First six digits of the credit card | Integer | 123456 |\n",
    "| Payment Instrument |CARD_BIN | First six digits of the credit card | Integer | 123456|  \n",
    "| Payment Instrument |AUTH_CODE  |Alphanumerical code sent by a credit card issuer or issuing bank | String | 00|  \n",
    "| Payment Instrument |AVS | Address Verification System response code from card processor | String | Y|\n",
    "| Billing Address | BILLING_NAME |  Name associated with billing address  | String |  John Doe |  \n",
    "| Billing Address | BILLING_PHONE |  Phone associated with billing address  | String |  1-123-456-7891 |  \n",
    "| Billing Address | BILLING_ADDRESS_L1 |  Billing address line 1  | String |  123 4th St. |  \n",
    "| Billing Address | BILLING_ADDRESS_L2 |  Billing address line 2  | String |  Unit 123 |  \n",
    "| Billing Address | BILLING_CITY |  Billing address city  | String |  Seattle |  \n",
    "| Billing Address | BILLING_STATE |  Billing address state or providence  | String |  WA |  \n",
    "| Billing Address | BILLING_COUNTRY |  Billing address country  | String |  US |  \n",
    "| Billing Address | BILLING_ZIP |  Billing address postal code  | String |  98109 |  \n",
    "| Shipping Address | SHIPPING_NAME |  Name associated with shipping address  | String |  John Doe |  \n",
    "| Shipping Address | SHIPPING_PHONE |  Phone associated with shipping address  | String |  1-123-456-7891 |  \n",
    "| Shipping Address | SHIPPING_ADDRESS_L1 |  Shipping address line 1  | String |  123 4th St. |  \n",
    "| Shipping Address | SHIPPING_ADDRESS_L2 |  Shipping address line 2  | String |  Unit 123 |  \n",
    "| Shipping Address | SHIPPING_CITY |  Shipping address city  | String |  Seattle |  \n",
    "| Shipping Address | SHIPPING_STATE |  Shipping address state or providence  | String |  WA |  \n",
    "| Shipping Address | SHIPPING_COUNTRY |  Billing address country  | String |  US |  \n",
    "| Shipping Address | SHIPPING_ZIP |  Shipping address postal code  | String |  98109 |  \n",
    "| Order | ORDER_ID |  Unique identifier for transaction  | String |  LUX60 |  \n",
    "| Order | PRODUCT_CATEGORY |  Product category of order item  | String |  kitchen |  \n",
    "| Order | CURRENCY_CODE |  ISO 4217 currency code  | String |  USD |  \n",
    "| Order | PRICE |  Total order price  | String |  560.00 |  \n"
   ]
  },
  {
   "cell_type": "code",
   "execution_count": null,
   "id": "abfb3098",
   "metadata": {},
   "outputs": [],
   "source": [
    "#You can optionally assign variables a variable type: \n",
    "variable_types = [ \"NUMERIC\" , \"CATEGORICAL\" , \"FREE_FORM_TEXT\" , \"EMAIL_ADDRESS\" , \"IP_ADDRESS\" , \"PHONE_NUMBER\" , \"USERAGENT\" , \"FINGERPRINT\" , \"PAYMENT_TYPE\" , \"CARD_BIN\" , \"AUTH_CODE \" , \"AVS\" , \"BILLING_NAME\" , \"BILLING_PHONE\" , \"BILLING_ADDRESS_L1\" , \"BILLING_ADDRESS_L2\" , \"BILLING_CITY\" , \"BILLING_STATE\" , \"BILLING_COUNTRY\" , \"BILLING_ZIP\" , \"SHIPPING_NAME\" , \"SHIPPING_PHONE\" , \"SHIPPING_ADDRESS_L1\" , \"SHIPPING_ADDRESS_L2\" , \"SHIPPING_CITY\" , \"SHIPPING_STATE\" , \"SHIPPING_COUNTRY\" , \"SHIPPING_ZIP\" , \"ORDER_ID\" , \"PRODUCT_CATEGORY\" , \"CURRENCY_CODE\" , \"PRICE\" ]"
   ]
  },
  {
   "cell_type": "markdown",
   "id": "91b7ea98",
   "metadata": {},
   "source": [
    "### Create Variables ###\n",
    "Variables represent data elements that you want to use in a fraud prediction.  \n",
    "Variables must have a data type for the data element that the variable represents.  \n",
    "For variables that are mapped to a variable type, the data type is pre-selected.\n",
    "https://docs.aws.amazon.com/frauddetector/latest/ug/create-a-variable.html"
   ]
  },
  {
   "cell_type": "code",
   "execution_count": null,
   "id": "983b39ea",
   "metadata": {},
   "outputs": [],
   "source": [
    "#Create variable email_address\n",
    "fraudDetector.create_variable(\n",
    "name = 'email_address',\n",
    "variableType = 'EMAIL_ADDRESS',\n",
    "dataSource = 'EVENT',\n",
    "dataType = 'STRING',\n",
    "defaultValue = '<unknown>'\n",
    ")\n",
    "\n",
    "#Create variable ip_address\n",
    "fraudDetector.create_variable(\n",
    "name = 'ip_address',\n",
    "variableType = 'IP_ADDRESS',\n",
    "dataSource = 'EVENT',\n",
    "dataType = 'STRING',\n",
    "defaultValue = '<unknown>'\n",
    ")"
   ]
  },
  {
   "cell_type": "code",
   "execution_count": null,
   "id": "a9086044",
   "metadata": {},
   "outputs": [],
   "source": [
    "response = fraudDetector.get_variables(\n",
    "    name='ip_address',\n",
    "    nextToken='string',\n",
    "    maxResults=100\n",
    ")"
   ]
  },
  {
   "cell_type": "code",
   "execution_count": null,
   "id": "47f96b8f",
   "metadata": {},
   "outputs": [],
   "source": [
    "response.items()"
   ]
  },
  {
   "cell_type": "markdown",
   "id": "087a2aa2",
   "metadata": {},
   "source": [
    "### Create Entity Types ###\n",
    "An entity represents who is performing the event. Example classifications include customer, merchant, or account.\n",
    "https://docs.aws.amazon.com/frauddetector/latest/ug/create-an-entity-type.html  "
   ]
  },
  {
   "cell_type": "code",
   "execution_count": null,
   "id": "ed0a2253",
   "metadata": {},
   "outputs": [],
   "source": [
    "fraudDetector.put_entity_type(\n",
    "name = 'customer',\n",
    "description = 'sample customer entity type'\n",
    ")"
   ]
  },
  {
   "cell_type": "markdown",
   "id": "62a14b3c",
   "metadata": {},
   "source": [
    "### Create Event Labels ###\n",
    "These are the label binary classifications for \"Fraud\" or \"Not-Fraud\" (\"legit\")  \n",
    "https://docs.aws.amazon.com/frauddetector/latest/ug/create-a-label.html  "
   ]
  },
  {
   "cell_type": "code",
   "execution_count": null,
   "id": "4571a2ba",
   "metadata": {},
   "outputs": [],
   "source": [
    "fraudDetector.put_label(\n",
    "name = 'fraud',\n",
    "description = 'label for fraud events'\n",
    ")\n",
    "\n",
    "fraudDetector.put_label(\n",
    "name = 'legit',\n",
    "description = 'label for legitimate events'\n",
    ")"
   ]
  },
  {
   "cell_type": "markdown",
   "id": "56b54c2e",
   "metadata": {},
   "source": [
    "### Create an Event Type ###\n",
    "An event type defines the structure for an individual event sent to Amazon Fraud Detector.   \n",
    "https://docs.aws.amazon.com/frauddetector/latest/ug/create-event-type.html  \n",
    "  \n",
    "The structure of an event includes:  \n",
    "- *Entity Type*: Classifies who is performing the event. During prediction, specify the entity type and entity Id to define who performed the event.\n",
    "\n",
    "- *Variables*: Defines what variables can be sent as part of the event. Variables are used by models and rules to evaluate fraud risk. Once added, variables cannot be removed from an event type.\n",
    "\n",
    "- *Labels*: Classifies an event as fraudulent or legitimate. Used during model training. Once added, labels cannot be removed form an event type.  "
   ]
  },
  {
   "cell_type": "code",
   "execution_count": null,
   "id": "e20e9b35",
   "metadata": {},
   "outputs": [],
   "source": [
    "fraudDetector.put_event_type (\n",
    "   name = 'registrations',\n",
    "   eventVariables = ['ip_address', 'email_address'],\n",
    "   labels = ['legit', 'fraud'],\n",
    "   entityTypes = ['customer']\n",
    ")"
   ]
  },
  {
   "cell_type": "markdown",
   "id": "25b246bd",
   "metadata": {},
   "source": [
    "### Define a Model\n",
    "https://docs.aws.amazon.com/frauddetector/latest/ug/building-a-model.html"
   ]
  },
  {
   "cell_type": "code",
   "execution_count": null,
   "id": "2c533074",
   "metadata": {},
   "outputs": [],
   "source": [
    "fraudDetector.create_model (\n",
    "   modelId = 'sample_fraud_detection_model',\n",
    "   eventTypeName = 'registrations',\n",
    "   modelType = 'ONLINE_FRAUD_INSIGHTS'\n",
    ")"
   ]
  },
  {
   "cell_type": "markdown",
   "id": "056302af",
   "metadata": {},
   "source": [
    "### Train a Model \n",
    "https://docs.aws.amazon.com/frauddetector/latest/ug/building-a-model.html\n"
   ]
  },
  {
   "cell_type": "code",
   "execution_count": null,
   "id": "4a753755",
   "metadata": {},
   "outputs": [],
   "source": [
    "fraudDetector.create_model_version (\n",
    "modelId = 'sample_fraud_detection_model',\n",
    "modelType = 'ONLINE_FRAUD_INSIGHTS',\n",
    "trainingDataSource = 'EXTERNAL_EVENTS',\n",
    "trainingDataSchema = {\n",
    "    'modelVariables' : ['ip_address', 'email_address'],\n",
    "    'labelSchema' : {\n",
    "        'labelMapper' : {\n",
    "            'FRAUD' : ['fraud'],\n",
    "            'LEGIT' : ['legit']\n",
    "        }\n",
    "    }\n",
    "}, \n",
    "externalEventsDetail = {\n",
    "    'dataLocation' : TRAINING_DATA,\n",
    "    'dataAccessRoleArn' : ROLE_ARN\n",
    "}\n",
    ")"
   ]
  },
  {
   "cell_type": "markdown",
   "id": "22faf692",
   "metadata": {},
   "source": [
    "### Check the Model Training Progress "
   ]
  },
  {
   "cell_type": "code",
   "execution_count": null,
   "id": "629132b0",
   "metadata": {},
   "outputs": [],
   "source": [
    "response = fraudDetector.get_model_version(\n",
    "    modelId='sample_fraud_detection_model',\n",
    "    modelType='ONLINE_FRAUD_INSIGHTS',\n",
    "    modelVersionNumber='1.0'\n",
    ")"
   ]
  },
  {
   "cell_type": "markdown",
   "id": "879ddf56",
   "metadata": {},
   "source": [
    "several hours later..."
   ]
  },
  {
   "cell_type": "code",
   "execution_count": null,
   "id": "19c2edb4",
   "metadata": {},
   "outputs": [],
   "source": [
    "response['status']"
   ]
  },
  {
   "cell_type": "code",
   "execution_count": null,
   "id": "337d359a",
   "metadata": {},
   "outputs": [],
   "source": [
    "response = fraudDetector.describe_model_versions(\n",
    "    modelId='sample_fraud_detection_model',\n",
    "    modelVersionNumber='1.0',\n",
    "    modelType='ONLINE_FRAUD_INSIGHTS',\n",
    "    nextToken='string',\n",
    "    maxResults=5\n",
    ")"
   ]
  },
  {
   "cell_type": "code",
   "execution_count": null,
   "id": "dab2ffae",
   "metadata": {},
   "outputs": [],
   "source": [
    "# Get metrics including AUC\n",
    "response['modelVersionDetails'][0]['trainingResult']['trainingMetrics']['auc']"
   ]
  },
  {
   "cell_type": "markdown",
   "id": "e90e15d2",
   "metadata": {},
   "source": [
    "## Build a Detector\n",
    "\n",
    "https://docs.aws.amazon.com/frauddetector/latest/ug/create-a-detector.html  \n",
    "\n",
    "A detector contains the detection logic, such as the models and rules, for a particular event that you want to evaluate for fraud.    \n",
    "Specify the detector that you want to use to evaluate your event.  \n",
    "1. Create a detector. \n",
    "2. Create rules.  These are the conditions that determine the outcome.  \n",
    "3. Create outcomes.  These are the result of a fraud detection by the detector - EG one of *high_risk*, *medium_risk*, and *low_risk*. \n",
    "4. Creat a detector version.  Specifies the model-version and rules that will be used to run a fraud prediction  "
   ]
  },
  {
   "cell_type": "code",
   "execution_count": null,
   "id": "87cd76cd",
   "metadata": {},
   "outputs": [],
   "source": [
    "fraudDetector.put_detector (\n",
    "detectorId = 'registration_detector',\n",
    "eventTypeName = 'registrations'\n",
    ")"
   ]
  },
  {
   "cell_type": "markdown",
   "id": "9e959a65",
   "metadata": {},
   "source": [
    "### Activate the Model ###\n",
    "Possible model status values are:\n",
    "- TRAINING_IN_PROGRESS\n",
    "- TRAINING_COMPLETE\n",
    "- ACTIVATE_REQUESTED\n",
    "- ACTIVATE_IN_PROGRESS\n",
    "- ACTIVE\n",
    "- INACTIVATE_REQUESTED\n",
    "- INACTIVATE_IN_PROGRESS\n",
    "- INACTIVE\n",
    "- ERROR"
   ]
  },
  {
   "cell_type": "code",
   "execution_count": null,
   "id": "ed96a896",
   "metadata": {},
   "outputs": [],
   "source": [
    "fraudDetector.get_model_version(modelId=\"sample_fraud_detection_model\"\n",
    ", modelType=\"ONLINE_FRAUD_INSIGHTS\"\n",
    ", modelVersionNumber=\"1.0\")['status']\n"
   ]
  },
  {
   "cell_type": "markdown",
   "id": "9ad661c3",
   "metadata": {},
   "source": [
    "Once the model reaches a state of `TRAINING_COMPLETE`, activate it:"
   ]
  },
  {
   "cell_type": "code",
   "execution_count": null,
   "id": "2c3ab8c2",
   "metadata": {},
   "outputs": [],
   "source": [
    "fraudDetector.update_model_version_status (\n",
    "modelId = 'sample_fraud_detection_model',\n",
    "modelType = 'ONLINE_FRAUD_INSIGHTS',\n",
    "modelVersionNumber = '1.00',\n",
    "status = 'ACTIVE'\n",
    ")"
   ]
  },
  {
   "cell_type": "markdown",
   "id": "7b8b3d6b",
   "metadata": {},
   "source": [
    "Check the model status and wait until it moves from `ACTIVATE_IN_PROGRESS` to `ACTIVE`"
   ]
  },
  {
   "cell_type": "code",
   "execution_count": null,
   "id": "b0c0cebc",
   "metadata": {},
   "outputs": [],
   "source": [
    "fraudDetector.get_model_version(modelId=\"sample_fraud_detection_model\"\n",
    ", modelType=\"ONLINE_FRAUD_INSIGHTS\"\n",
    ", modelVersionNumber=\"1.0\")['status']"
   ]
  },
  {
   "cell_type": "markdown",
   "id": "3e12c0a3",
   "metadata": {},
   "source": [
    "### Create Outcomes\n",
    "An outcome is the result of a fraud prediction. Create an outcome for each possible fraud prediction result."
   ]
  },
  {
   "cell_type": "code",
   "execution_count": null,
   "id": "a9ec56ac",
   "metadata": {},
   "outputs": [],
   "source": [
    "fraudDetector.put_outcome(\n",
    "name = 'verify_customer',\n",
    "description = 'this outcome initiates a verification workflow'\n",
    ")\n",
    "\n",
    "fraudDetector.put_outcome(\n",
    "name = 'review',\n",
    "description = 'this outcome sidelines event for review'\n",
    ")\n",
    "\n",
    "fraudDetector.put_outcome(\n",
    "name = 'approve',\n",
    "description = 'this outcome approves the event'\n",
    ")"
   ]
  },
  {
   "cell_type": "markdown",
   "id": "932495e4",
   "metadata": {},
   "source": [
    "### Create Rules \n",
    " A detector must have at least one associated rule\n",
    " https://docs.aws.amazon.com/frauddetector/latest/ug/create-a-rule.html  \n",
    " https://docs.aws.amazon.com/frauddetector/latest/ug/rule-language-reference.html  "
   ]
  },
  {
   "cell_type": "code",
   "execution_count": null,
   "id": "dc5cf46a",
   "metadata": {
    "scrolled": true
   },
   "outputs": [],
   "source": [
    "\n",
    "fraudDetector.create_rule(\n",
    "ruleId = 'high_fraud_risk',\n",
    "detectorId = 'registration_detector',\n",
    "expression = '$sample_fraud_detection_model_insightscore > 900',\n",
    "language = 'DETECTORPL',\n",
    "outcomes = ['verify_customer']\n",
    ")\n",
    "\n",
    "fraudDetector.create_rule(\n",
    "ruleId = 'low_fraud_risk',\n",
    "detectorId = 'registration_detector',\n",
    "expression = '$sample_fraud_detection_model_insightscore <= 900 and $sample_fraud_detection_model_insightscore > 700',\n",
    "language = 'DETECTORPL',\n",
    "outcomes = ['review']\n",
    ")\n"
   ]
  },
  {
   "cell_type": "markdown",
   "id": "11515d31",
   "metadata": {},
   "source": [
    "### Create a Detector Version ###"
   ]
  },
  {
   "cell_type": "code",
   "execution_count": null,
   "id": "5a67871b",
   "metadata": {},
   "outputs": [],
   "source": [
    "fraudDetector.create_detector_version(\n",
    "detectorId = 'registration_detector',\n",
    "rules = [{\n",
    "    'detectorId' : 'registration_detector',\n",
    "    'ruleId' : 'high_fraud_risk',\n",
    "    'ruleVersion' : '1'\n",
    "},\n",
    "{\n",
    "    'detectorId' : 'registration_detector',\n",
    "    'ruleId' : 'low_fraud_risk',\n",
    "    'ruleVersion' : '1'\n",
    "}\n",
    "],\n",
    "modelVersions = [{\n",
    "    'modelId' : 'sample_fraud_detection_model',\n",
    "    'modelType': 'ONLINE_FRAUD_INSIGHTS',\n",
    "    'modelVersionNumber' : '1.0'\n",
    "}],\n",
    "ruleExecutionMode = 'FIRST_MATCHED'\n",
    ")"
   ]
  },
  {
   "cell_type": "markdown",
   "id": "5b25b9af",
   "metadata": {},
   "source": [
    "## Make a Prediction\n",
    "\n",
    "Response from the get_event_prediction method sees if we hit any of the rule conditiions set earlier.  This can be used to trigger an action for the fraud."
   ]
  },
  {
   "cell_type": "code",
   "execution_count": null,
   "id": "882f122d",
   "metadata": {},
   "outputs": [],
   "source": [
    "response = fraudDetector.get_event_prediction(\n",
    "    detectorId='registration_detector',\n",
    "    detectorVersionId='1',\n",
    "    eventId='1234',\n",
    "    eventTypeName='registrations',\n",
    "    entities=[\n",
    "        {\n",
    "            'entityType': 'customer',\n",
    "            'entityId': 'unknown'\n",
    "        },\n",
    "    ],\n",
    "    eventTimestamp='2021-11-13T12:18:21Z',\n",
    "    eventVariables = {\n",
    "            'email_address' : 'johndoe@exampledomain.com',\n",
    "            'ip_address' : '1.2.3.4'\n",
    "        }\n",
    ")"
   ]
  },
  {
   "cell_type": "code",
   "execution_count": null,
   "id": "2fa03696",
   "metadata": {},
   "outputs": [],
   "source": [
    "response.keys()"
   ]
  },
  {
   "cell_type": "code",
   "execution_count": null,
   "id": "943f51dd",
   "metadata": {},
   "outputs": [],
   "source": [
    "response['ruleResults']"
   ]
  },
  {
   "cell_type": "code",
   "execution_count": null,
   "id": "41108070",
   "metadata": {},
   "outputs": [],
   "source": [
    "response['modelScores']"
   ]
  },
  {
   "cell_type": "code",
   "execution_count": null,
   "id": "214472a5",
   "metadata": {},
   "outputs": [],
   "source": [
    "response = fraudDetector.get_event_prediction(\n",
    "    detectorId='registration_detector',\n",
    "    detectorVersionId='1',\n",
    "    eventId='1234',\n",
    "    eventTypeName='registrations',\n",
    "    entities=[\n",
    "        {\n",
    "            'entityType': 'customer',\n",
    "            'entityId': 'unknown'\n",
    "        },\n",
    "    ],\n",
    "    eventTimestamp='2021-11-11T12:18:21Z',\n",
    "    eventVariables = {\n",
    "            'email_address' : 'johndoe@gmail.com',\n",
    "            'ip_address' : '82:24:61:42'\n",
    "        }\n",
    ")"
   ]
  },
  {
   "cell_type": "code",
   "execution_count": null,
   "id": "92a62ab4",
   "metadata": {},
   "outputs": [],
   "source": [
    "response['ruleResults']"
   ]
  },
  {
   "cell_type": "code",
   "execution_count": null,
   "id": "95136cf5",
   "metadata": {},
   "outputs": [],
   "source": [
    "print(response)"
   ]
  },
  {
   "cell_type": "code",
   "execution_count": null,
   "id": "e1e53865",
   "metadata": {},
   "outputs": [],
   "source": []
  }
 ],
 "metadata": {
  "kernelspec": {
   "display_name": "Python 3",
   "language": "python",
   "name": "python3"
  },
  "language_info": {
   "codemirror_mode": {
    "name": "ipython",
    "version": 3
   },
   "file_extension": ".py",
   "mimetype": "text/x-python",
   "name": "python",
   "nbconvert_exporter": "python",
   "pygments_lexer": "ipython3",
   "version": "3.9.2"
  }
 },
 "nbformat": 4,
 "nbformat_minor": 5
}
