{
 "cells": [
  {
   "cell_type": "markdown",
   "id": "2073753d",
   "metadata": {},
   "source": [
    "# Example using the FraudDetector SDK \n",
    "Demonstration of how the SDK simplifies using the AWS Fraud Detector service."
   ]
  },
  {
   "cell_type": "code",
   "execution_count": 2,
   "id": "fac9ba34",
   "metadata": {},
   "outputs": [],
   "source": [
    "# Set authentiation to AWS via temporary access tokens\n",
    "import json\n",
    "import os\n",
    "from getpass import getpass"
   ]
  },
  {
   "cell_type": "markdown",
   "id": "57eb5f97",
   "metadata": {},
   "source": [
    "*Either* setup authentication to AWS cloud environment before starting this notebook, *or* use the next section to enter access keys and tokens for AWS cloud account to run this in."
   ]
  },
  {
   "cell_type": "code",
   "execution_count": 3,
   "id": "d8b1bfb8",
   "metadata": {},
   "outputs": [
    {
     "name": "stdout",
     "output_type": "stream",
     "text": [
      "Enter the AWS Access Key:········\n",
      "Enter the AWS Secret Key:········\n",
      "Enter the AWS Session Token to use:········\n"
     ]
    }
   ],
   "source": [
    "# Optional section to set access keys and tokens for AWS cloud account access:\n",
    "ACCESS_KEY = getpass(\"Enter the AWS Access Key:\")\n",
    "SECRET_KEY =  getpass(\"Enter the AWS Secret Key:\")\n",
    "SESSION_TOKEN = getpass(\"Enter the AWS Session Token to use:\")\n",
    "\n",
    "os.environ['AWS_ACCESS_KEY_ID'] = ACCESS_KEY\n",
    "os.environ['AWS_SECRET_ACCESS_KEY'] = SECRET_KEY\n",
    "os.environ['AWS_SESSION_TOKEN'] = SESSION_TOKEN"
   ]
  },
  {
   "cell_type": "code",
   "execution_count": 4,
   "id": "ad381893",
   "metadata": {},
   "outputs": [],
   "source": [
    "# set the import path relative to the notebook examples location\n",
    "import sys\n",
    "sys.path.append(\"../\")"
   ]
  },
  {
   "cell_type": "markdown",
   "id": "a28ea09b",
   "metadata": {},
   "source": [
    "### FraudDetector SDK Imports"
   ]
  },
  {
   "cell_type": "code",
   "execution_count": 5,
   "id": "84dedb75",
   "metadata": {},
   "outputs": [],
   "source": [
    "import pandas as pd\n",
    "from frauddetector import frauddetector, profiler"
   ]
  },
  {
   "cell_type": "markdown",
   "id": "e81f83ab",
   "metadata": {},
   "source": [
    "# Profile Data with `Profiler()`; generate Data Schema, Variables Definition, Label Definitions\n",
    "A representative set of data needs to be loaded into a Pandas data-frame for the profiler to generate the FraudDetector definitions from."
   ]
  },
  {
   "cell_type": "code",
   "execution_count": 6,
   "id": "fc5a5073",
   "metadata": {},
   "outputs": [],
   "source": [
    "profiler = profiler.Profiler()\n",
    "df = pd.read_csv(\"training_data/registration_data_20K_minimum.csv\")\n",
    "data_schema, variables, labels = profiler.get_frauddetector_inputs(data=df)"
   ]
  },
  {
   "cell_type": "code",
   "execution_count": 7,
   "id": "f272c83c",
   "metadata": {},
   "outputs": [
    {
     "data": {
      "text/plain": [
       "[{'name': 'ip_address',\n",
       "  'variableType': 'IP_ADDRESS',\n",
       "  'dataType': 'STRING',\n",
       "  'defaultValue': 'unknown'},\n",
       " {'name': 'email_address',\n",
       "  'variableType': 'EMAIL_ADDRESS',\n",
       "  'dataType': 'STRING',\n",
       "  'defaultValue': 'unknown'}]"
      ]
     },
     "execution_count": 7,
     "metadata": {},
     "output_type": "execute_result"
    }
   ],
   "source": [
    "variables"
   ]
  },
  {
   "cell_type": "code",
   "execution_count": 8,
   "id": "5d4993b3",
   "metadata": {},
   "outputs": [
    {
     "data": {
      "text/plain": [
       "[{'name': 'legit'}, {'name': 'fraud'}]"
      ]
     },
     "execution_count": 8,
     "metadata": {},
     "output_type": "execute_result"
    }
   ],
   "source": [
    "labels"
   ]
  },
  {
   "cell_type": "markdown",
   "id": "6c6676ac",
   "metadata": {},
   "source": [
    "# Instantiate a `FraudDetector()` with variables and labels"
   ]
  },
  {
   "cell_type": "code",
   "execution_count": 9,
   "id": "ebc38712",
   "metadata": {},
   "outputs": [],
   "source": [
    "detector = frauddetector.FraudDetector(\n",
    "    entity_type=\"registration\",\n",
    "    event_type=\"user-registration\",\n",
    "    detector_name=\"registration-project\",\n",
    "    model_name=\"registration_model\",\n",
    "    model_version=\"1.00\",\n",
    "    model_type=\"ONLINE_FRAUD_INSIGHTS\",\n",
    "    region='eu-west-1',\n",
    "    detector_version=\"1\"\n",
    "    )"
   ]
  },
  {
   "cell_type": "markdown",
   "id": "094314e7",
   "metadata": {},
   "source": [
    "# Train a Model - `fit()` stage\n",
    "Supply an IAM role ARN as well as the training data location in S3.  The role should have AmazonFraudDetectorFullAccessPolicy attached to it."
   ]
  },
  {
   "cell_type": "code",
   "execution_count": 19,
   "id": "fa18592a",
   "metadata": {},
   "outputs": [],
   "source": [
    "# https://docs.aws.amazon.com/frauddetector/latest/ug/security-iam.html\n",
    "role_arn=\"arn:aws:iam::9999999999:role/MyFraudDetectorRole\""
   ]
  },
  {
   "cell_type": "code",
   "execution_count": 22,
   "id": "8be5ba66",
   "metadata": {},
   "outputs": [
    {
     "name": "stderr",
     "output_type": "stream",
     "text": [
      "create_entity_type: entity registration already exists, skipping\n",
      "create_labels: label legit already exists, skipping\n",
      "create_labels: label fraud already exists, skipping\n",
      "create_variables: variable ip_address already exists, skipping\n",
      "create_variables: variable email_address already exists, skipping\n",
      "create_event_type: event user-registration already exists, skipping\n"
     ]
    },
    {
     "data": {
      "text/plain": [
       "{'modelId': 'registration_model',\n",
       " 'modelType': 'ONLINE_FRAUD_INSIGHTS',\n",
       " 'modelVersionNumber': '1.0',\n",
       " 'status': 'TRAINING_IN_PROGRESS',\n",
       " 'ResponseMetadata': {'RequestId': 'c1655b8b-eaf9-46e0-ae6f-724f04d1cd5c',\n",
       "  'HTTPStatusCode': 200,\n",
       "  'HTTPHeaders': {'date': 'Wed, 01 Dec 2021 16:17:51 GMT',\n",
       "   'content-type': 'application/x-amz-json-1.1',\n",
       "   'content-length': '127',\n",
       "   'connection': 'keep-alive',\n",
       "   'x-amzn-requestid': 'c1655b8b-eaf9-46e0-ae6f-724f04d1cd5c'},\n",
       "  'RetryAttempts': 0}}"
      ]
     },
     "execution_count": 22,
     "metadata": {},
     "output_type": "execute_result"
    }
   ],
   "source": [
    "detector.fit(data_schema=data_schema\n",
    "         , data_location=\"s3://<my-s3-bucket>/training/registration_data_20K_minimum.csv\"             \n",
    "         , role=role_arn\n",
    "         , variables=variables\n",
    "         , labels=labels)"
   ]
  },
  {
   "cell_type": "markdown",
   "id": "a3a9299c",
   "metadata": {},
   "source": [
    "# Create a Detector - `activate()` stage\n",
    "Provide a list of outcomes to create an active model associted with FraudDetector \"outcomes\" ready for FD rules to be associated with the outcomes."
   ]
  },
  {
   "cell_type": "code",
   "execution_count": 11,
   "id": "d370994d",
   "metadata": {},
   "outputs": [
    {
     "name": "stdout",
     "output_type": "stream",
     "text": [
      "TRAINING_COMPLETE\n"
     ]
    }
   ],
   "source": [
    "# get the model status - should be TRAINING_COMPLETE before starting compile stage.\n",
    "print(detector.model_status)"
   ]
  },
  {
   "cell_type": "code",
   "execution_count": 12,
   "id": "21648db8",
   "metadata": {},
   "outputs": [
    {
     "name": "stdout",
     "output_type": "stream",
     "text": [
      "TRAINING_COMPLETE\n"
     ]
    }
   ],
   "source": [
    "print(detector.model_status)"
   ]
  },
  {
   "cell_type": "code",
   "execution_count": 13,
   "id": "2fcf8c11",
   "metadata": {},
   "outputs": [
    {
     "name": "stdout",
     "output_type": "stream",
     "text": [
      "1.00\n"
     ]
    }
   ],
   "source": [
    "print(detector.model_version)"
   ]
  },
  {
   "cell_type": "code",
   "execution_count": 14,
   "id": "9389db74",
   "metadata": {},
   "outputs": [],
   "source": [
    "outcomes = [(\"review_outcome\", \"Start a review process workflow\"),\n",
    "                  (\"verify_outcome\", \"Sideline event for review\"),\n",
    "                  (\"approve_outcome\", \"Approve the event\")]"
   ]
  },
  {
   "cell_type": "code",
   "execution_count": 15,
   "id": "2176559c",
   "metadata": {},
   "outputs": [],
   "source": [
    "detector.activate(outcomes_list=outcomes)"
   ]
  },
  {
   "cell_type": "code",
   "execution_count": 16,
   "id": "fbe4895a",
   "metadata": {},
   "outputs": [
    {
     "name": "stdout",
     "output_type": "stream",
     "text": [
      "ACTIVATE_IN_PROGRESS\n"
     ]
    }
   ],
   "source": [
    "# get the model status - should be ACTIVE after compile stage (will be ACTIVATE_IN_PROGRESS for some time)\n",
    "print(detector.model_status)"
   ]
  },
  {
   "cell_type": "code",
   "execution_count": 19,
   "id": "3398183c",
   "metadata": {},
   "outputs": [
    {
     "name": "stdout",
     "output_type": "stream",
     "text": [
      "ACTIVE\n"
     ]
    }
   ],
   "source": [
    "print(detector.model_status)"
   ]
  },
  {
   "cell_type": "markdown",
   "id": "0f262202",
   "metadata": {},
   "source": [
    "# Deploy a Fraud Detector - `deploy()` stage\n",
    "Provide a list of rules that map to rule-outcomes to deploy the detector-version ready for fraud predicition actions.\n",
    "Each rule item in the list is a dictionary of\n",
    "```\n",
    "{'ruleId': 'name_of_rule',\n",
    "'expression': 'rule_expression_for_evaluating_rule', \n",
    "'outcomes': [list_of, outcomes_for, matching_rule]\n",
    "}\n",
    "```\n",
    "See documentation here: https://docs.aws.amazon.com/frauddetector/latest/ug/rule-language-reference.html"
   ]
  },
  {
   "cell_type": "code",
   "execution_count": 20,
   "id": "bac939a3",
   "metadata": {},
   "outputs": [
    {
     "name": "stdout",
     "output_type": "stream",
     "text": [
      "registration_model\n"
     ]
    }
   ],
   "source": [
    "print(detector.model_name)"
   ]
  },
  {
   "cell_type": "markdown",
   "id": "affb2929",
   "metadata": {},
   "source": [
    "The model name with `_insightscore` appended to it is used to reference the output value from the model"
   ]
  },
  {
   "cell_type": "code",
   "execution_count": 21,
   "id": "f9a58f6b",
   "metadata": {},
   "outputs": [],
   "source": [
    "rules = [{'ruleId': 'high_fraud_risk',\n",
    "                       'expression': '$registration_model_insightscore > 900',\n",
    "                       'outcomes': ['verify_outcome']\n",
    "                      },\n",
    "        {'ruleId': 'low_fraud_risk',\n",
    "                       'expression': '$registration_model_insightscore <= 900 and $registration_model_insightscore > 700',\n",
    "                       'outcomes': ['review_outcome']\n",
    "                      },\n",
    "        {'ruleId': 'no_fraud_risk',\n",
    "                       'expression': '$registration_model_insightscore <= 700',\n",
    "                       'outcomes': ['approve_outcome']\n",
    "                      } \n",
    "        ]"
   ]
  },
  {
   "cell_type": "code",
   "execution_count": 22,
   "id": "6231f1e3",
   "metadata": {},
   "outputs": [],
   "source": [
    "response = detector.deploy(rules_list=rules)"
   ]
  },
  {
   "cell_type": "code",
   "execution_count": 23,
   "id": "d33f371f",
   "metadata": {},
   "outputs": [
    {
     "name": "stdout",
     "output_type": "stream",
     "text": [
      "{'detectorId': 'registration-project', 'detectorVersionId': '1', 'status': 'DRAFT', 'ResponseMetadata': {'RequestId': '03c5ed13-3090-4dbe-9af5-8045059a710f', 'HTTPStatusCode': 200, 'HTTPHeaders': {'date': 'Wed, 01 Dec 2021 18:02:55 GMT', 'content-type': 'application/x-amz-json-1.1', 'content-length': '78', 'connection': 'keep-alive', 'x-amzn-requestid': '03c5ed13-3090-4dbe-9af5-8045059a710f'}, 'RetryAttempts': 0}}\n"
     ]
    }
   ],
   "source": [
    "print(response)"
   ]
  },
  {
   "cell_type": "markdown",
   "id": "7324e54b",
   "metadata": {},
   "source": [
    "# Get Predictions - `predict()` stage\n",
    "Use the `predict()` or `batch_predict()` methods to predict for a single event, passed in as a dictionary, or a batch of events passed in as a dataframe."
   ]
  },
  {
   "cell_type": "markdown",
   "id": "b145bf0f",
   "metadata": {},
   "source": [
    "**Example**: Single event that triggers the `low_fraud_risk` rule resulting in a `review_outcome`"
   ]
  },
  {
   "cell_type": "code",
   "execution_count": 24,
   "id": "594e6a2a",
   "metadata": {},
   "outputs": [
    {
     "data": {
      "text/plain": [
       "{'registration_model_insightscore': 861.0,\n",
       " 'ruleResults': [{'ruleId': 'low_fraud_risk', 'outcomes': ['review_outcome']}]}"
      ]
     },
     "execution_count": 24,
     "metadata": {},
     "output_type": "execute_result"
    }
   ],
   "source": [
    "event_variables = {\n",
    "            'email_address' : 'johndoe@exampledomain.com',\n",
    "            'ip_address' : '1.2.3.4'\n",
    "            }\n",
    "\n",
    "detector.predict('2021-11-13T12:18:21Z',event_variables)"
   ]
  },
  {
   "cell_type": "markdown",
   "id": "f05341dd",
   "metadata": {},
   "source": [
    "**Example** Single event that triggers the `no_fraud_risk` rule resulting in an `approve_outcome`"
   ]
  },
  {
   "cell_type": "code",
   "execution_count": 25,
   "id": "89c3f0a0",
   "metadata": {},
   "outputs": [
    {
     "data": {
      "text/plain": [
       "{'registration_model_insightscore': 355.0,\n",
       " 'ruleResults': [{'ruleId': 'no_fraud_risk', 'outcomes': ['approve_outcome']}]}"
      ]
     },
     "execution_count": 25,
     "metadata": {},
     "output_type": "execute_result"
    }
   ],
   "source": [
    "event_variables = {\n",
    "            'email_address' : 'johndoe@gmail.com',\n",
    "            'ip_address' : '82:24:61:42'\n",
    "        }\n",
    "detector.predict('2021-11-14T12:18:21Z',event_variables)"
   ]
  },
  {
   "cell_type": "markdown",
   "id": "0afa9615",
   "metadata": {},
   "source": [
    "# Destroy resources"
   ]
  },
  {
   "cell_type": "code",
   "execution_count": null,
   "id": "1d299cef",
   "metadata": {},
   "outputs": [],
   "source": [
    "detector.delete_detector()"
   ]
  },
  {
   "cell_type": "code",
   "execution_count": null,
   "id": "21c26b6b",
   "metadata": {},
   "outputs": [],
   "source": [
    "detector.rules"
   ]
  },
  {
   "cell_type": "code",
   "execution_count": null,
   "id": "38eb9d3e",
   "metadata": {},
   "outputs": [],
   "source": [
    "rule_ids = [r['ruleId'] for r in detector.rules]"
   ]
  },
  {
   "cell_type": "code",
   "execution_count": null,
   "id": "82df1f1a",
   "metadata": {},
   "outputs": [],
   "source": [
    "print(rule_ids)"
   ]
  },
  {
   "cell_type": "code",
   "execution_count": null,
   "id": "a4a47442",
   "metadata": {},
   "outputs": [],
   "source": [
    "detector.delete_rules(detector.rules)"
   ]
  },
  {
   "cell_type": "code",
   "execution_count": null,
   "id": "0c268ed8",
   "metadata": {},
   "outputs": [],
   "source": [
    "detector.rules"
   ]
  },
  {
   "cell_type": "code",
   "execution_count": null,
   "id": "8d142d0c",
   "metadata": {},
   "outputs": [],
   "source": [
    "detector.delete_detector_version()"
   ]
  },
  {
   "cell_type": "code",
   "execution_count": null,
   "id": "51021bac",
   "metadata": {},
   "outputs": [],
   "source": [
    "#de-activate the model\n",
    "detector.set_model_version_inactive()"
   ]
  },
  {
   "cell_type": "code",
   "execution_count": null,
   "id": "780a5d08",
   "metadata": {},
   "outputs": [],
   "source": [
    "print(detector.model_name)"
   ]
  },
  {
   "cell_type": "code",
   "execution_count": null,
   "id": "a53c5c9a",
   "metadata": {},
   "outputs": [],
   "source": [
    "# get the model status - should be INACTIVE or TRAINING_COMPLETE before deleting it\n",
    "print(detector.model_status)"
   ]
  },
  {
   "cell_type": "code",
   "execution_count": null,
   "id": "754c0d13",
   "metadata": {},
   "outputs": [],
   "source": [
    "#delete the model\n",
    "detector.delete_model()"
   ]
  },
  {
   "cell_type": "code",
   "execution_count": null,
   "id": "2d9679b4",
   "metadata": {},
   "outputs": [],
   "source": [
    "detector.delete_detector_version()"
   ]
  },
  {
   "cell_type": "code",
   "execution_count": null,
   "id": "966c3fe1",
   "metadata": {},
   "outputs": [],
   "source": [
    "detector.fd.delete_detector_version(detectorId=detector.detector_name, detectorVersionId=detector.detector_version)"
   ]
  },
  {
   "cell_type": "code",
   "execution_count": null,
   "id": "a0083766",
   "metadata": {},
   "outputs": [],
   "source": []
  }
 ],
 "metadata": {
  "kernelspec": {
   "display_name": "Python 3",
   "language": "python",
   "name": "python3"
  },
  "language_info": {
   "codemirror_mode": {
    "name": "ipython",
    "version": 3
   },
   "file_extension": ".py",
   "mimetype": "text/x-python",
   "name": "python",
   "nbconvert_exporter": "python",
   "pygments_lexer": "ipython3",
   "version": "3.9.2"
  }
 },
 "nbformat": 4,
 "nbformat_minor": 5
}