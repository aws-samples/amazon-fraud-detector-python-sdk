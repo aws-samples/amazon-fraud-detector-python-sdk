{
 "cells": [
  {
   "cell_type": "markdown",
   "id": "f28f99d7",
   "metadata": {},
   "source": [
    "# Example using the Amazon Fraud Detector SDK for Python\n",
    "Demonstration of how the SDK for Python simplifies using the AWS Fraud Detector service."
   ]
  },
  {
   "cell_type": "code",
   "execution_count": null,
   "id": "d09f08f7",
   "metadata": {},
   "outputs": [],
   "source": [
    "# Set authentiation to AWS via temporary access tokens\n",
    "import json\n",
    "import os\n",
    "from getpass import getpass"
   ]
  },
  {
   "cell_type": "markdown",
   "id": "0c881884",
   "metadata": {},
   "source": [
    "*Either* setup authentication to AWS cloud environment before starting this notebook, *or* use the next section to enter access keys and tokens for AWS cloud account to run this in."
   ]
  },
  {
   "cell_type": "code",
   "execution_count": null,
   "id": "a4974a34",
   "metadata": {},
   "outputs": [],
   "source": [
    "# Optional section to set access keys and tokens for AWS cloud account access:\n",
    "ACCESS_KEY = getpass(\"Enter the AWS Access Key:\")\n",
    "SECRET_KEY =  getpass(\"Enter the AWS Secret Key:\")\n",
    "SESSION_TOKEN = getpass(\"Enter the AWS Session Token to use:\")\n",
    "\n",
    "os.environ['AWS_ACCESS_KEY_ID'] = ACCESS_KEY\n",
    "os.environ['AWS_SECRET_ACCESS_KEY'] = SECRET_KEY\n",
    "os.environ['AWS_SESSION_TOKEN'] = SESSION_TOKEN"
   ]
  },
  {
   "cell_type": "code",
   "execution_count": null,
   "id": "d43d1fb8",
   "metadata": {},
   "outputs": [],
   "source": [
    "# set the import path relative to the notebook examples location\n",
    "import sys\n",
    "sys.path.append(\"../\")"
   ]
  },
  {
   "cell_type": "code",
   "execution_count": null,
   "id": "3472103e",
   "metadata": {},
   "outputs": [],
   "source": [
    "!pip install frauddetector"
   ]
  },
  {
   "cell_type": "markdown",
   "id": "b0ad7bbd",
   "metadata": {},
   "source": [
    "### Amazon Fraud Detector SDK for Python Imports"
   ]
  },
  {
   "cell_type": "code",
   "execution_count": null,
   "id": "c98c738d",
   "metadata": {},
   "outputs": [],
   "source": [
    "import pandas as pd\n",
    "from frauddetector import frauddetector, profiler"
   ]
  },
  {
   "cell_type": "markdown",
   "id": "a845166c",
   "metadata": {},
   "source": [
    "### Global variables"
   ]
  },
  {
   "cell_type": "code",
   "execution_count": null,
   "id": "a6def0ae",
   "metadata": {},
   "outputs": [],
   "source": [
    "# Training\n",
    "INPUT_BUCKET = \"YOUR_S3_BUCKET_FOR_TRAINING\"\n",
    "DETECTOR_NAME = \"YOUR_DETECTOR_NAME\"\n",
    "MODEL_NAME = \"YOUR_MODEL_NAME\"\n",
    "ENTITY_TYPE = \"YOUR_ENTITY_TYPE\" # e.g. \"transaction\"\n",
    "EVENT_TYPE = \"YOUR_EVENT_TYPE\" # e.g. \"credit-card-transaction\"\n",
    "MODEL_TYPE = \"ONLINE_FRAUD_INSIGHTS\"\n",
    "MODEL_VERSION = \"1\" # leave this as one if you start right at the beginning\n",
    "DETECTOR_VERSION = \"1\" # leave this as one if you start right at the beginning\n",
    "REGION = \"THE_REGION\""
   ]
  },
  {
   "cell_type": "markdown",
   "id": "26150420",
   "metadata": {},
   "source": [
    "# Profile Data with `Profiler()`; generate Data Schema, Variables Definition, Label Definitions\n",
    "A representative set of data needs to be loaded into a Pandas data-frame for the profiler to generate the FraudDetector definitions from."
   ]
  },
  {
   "cell_type": "code",
   "execution_count": null,
   "id": "7ad2b2f1",
   "metadata": {},
   "outputs": [],
   "source": [
    "profiler = profiler.Profiler()\n",
    "df = pd.read_csv(\"training_data/registration_data_20K_minimum.csv\")\n",
    "data_schema, variables, labels = profiler.get_frauddetector_inputs(data=df)"
   ]
  },
  {
   "cell_type": "code",
   "execution_count": null,
   "id": "c002be60",
   "metadata": {},
   "outputs": [],
   "source": [
    "variables"
   ]
  },
  {
   "cell_type": "code",
   "execution_count": null,
   "id": "1db24503",
   "metadata": {},
   "outputs": [],
   "source": [
    "labels"
   ]
  },
  {
   "cell_type": "markdown",
   "id": "cbdc1019",
   "metadata": {},
   "source": [
    "# Instantiate a `FraudDetector()` with variables and labels"
   ]
  },
  {
   "cell_type": "code",
   "execution_count": null,
   "id": "95a0e933",
   "metadata": {},
   "outputs": [],
   "source": [
    "detector = frauddetector.FraudDetector(\n",
    "    entity_type=ENTITY_TYPE,\n",
    "    event_type=EVENT_TYPE,\n",
    "    detector_name=DETECTOR_NAME,\n",
    "    model_name=MODEL_NAME,\n",
    "    model_version=MODEL_VERSION,\n",
    "    model_type=MODEL_TYPE, \n",
    "    region=REGION,\n",
    "    detector_version=DETECTOR_VERSION)\n"
   ]
  },
  {
   "cell_type": "markdown",
   "id": "918c3515",
   "metadata": {},
   "source": [
    "# Train a Model - `fit()` stage\n",
    "Supply an IAM role ARN as well as the training data location in S3.  The role should have AmazonFraudDetectorFullAccessPolicy attached to it."
   ]
  },
  {
   "cell_type": "code",
   "execution_count": null,
   "id": "c88a886b",
   "metadata": {},
   "outputs": [],
   "source": [
    "# https://docs.aws.amazon.com/frauddetector/latest/ug/security-iam.html\n",
    "role_arn=\"arn:aws:iam::9999999999:role/MyFraudDetectorRole\""
   ]
  },
  {
   "cell_type": "code",
   "execution_count": null,
   "id": "1413d3f6",
   "metadata": {},
   "outputs": [],
   "source": [
    "detector.fit(\n",
    "    data_schema=data_schema,\n",
    "    data_location=\"s3://<my-s3-bucket>/training/registration_data_20K_minimum.csv\"\n",
    "    , role=role_arn,\n",
    "    variables=variables,\n",
    "    labels=labels)"
   ]
  },
  {
   "cell_type": "markdown",
   "id": "58136dad",
   "metadata": {},
   "source": [
    "# Create a Detector - `activate()` stage\n",
    "Provide a list of outcomes to create an active model associted with FraudDetector \"outcomes\" ready for Amazon Fraud Detector rules to be associated with the outcomes."
   ]
  },
  {
   "cell_type": "code",
   "execution_count": null,
   "id": "bb9934b6",
   "metadata": {},
   "outputs": [],
   "source": [
    "# get the model status - should be TRAINING_COMPLETE before starting compile stage.\n",
    "print(detector.model_status)"
   ]
  },
  {
   "cell_type": "code",
   "execution_count": null,
   "id": "e52843e4",
   "metadata": {},
   "outputs": [],
   "source": [
    "print(detector.model_version)"
   ]
  },
  {
   "cell_type": "code",
   "execution_count": null,
   "id": "1a0993b3",
   "metadata": {},
   "outputs": [],
   "source": [
    "outcomes = [\n",
    "    (\"review_outcome\", \"Start a review process workflow\"),\n",
    "    (\"verify_outcome\", \"Sideline event for review\"),\n",
    "    (\"approve_outcome\", \"Approve the event\")\n",
    "]"
   ]
  },
  {
   "cell_type": "code",
   "execution_count": null,
   "id": "8367a1aa",
   "metadata": {},
   "outputs": [],
   "source": [
    "detector.activate(outcomes_list=outcomes)"
   ]
  },
  {
   "cell_type": "code",
   "execution_count": null,
   "id": "b711c6a4",
   "metadata": {},
   "outputs": [],
   "source": [
    "# get the model status - should be ACTIVE after compile stage (will be ACTIVATE_IN_PROGRESS for some time)\n",
    "print(detector.model_status)"
   ]
  },
  {
   "cell_type": "markdown",
   "id": "fb7a49c5",
   "metadata": {},
   "source": [
    "# Deploy a Fraud Detector - `deploy()` stage\n",
    "Provide a list of rules that map to rule-outcomes to deploy the detector-version ready for fraud predicition actions.\n",
    "Each rule item in the list is a dictionary of\n",
    "```\n",
    "{\n",
    "    'ruleId': 'name_of_rule',\n",
    "    'expression': 'rule_expression_for_evaluating_rule', \n",
    "    'outcomes': [list_of, outcomes_for, matching_rule]\n",
    "}\n",
    "```\n",
    "See documentation here: https://docs.aws.amazon.com/frauddetector/latest/ug/rule-language-reference.html"
   ]
  },
  {
   "cell_type": "code",
   "execution_count": null,
   "id": "40ac78e7",
   "metadata": {},
   "outputs": [],
   "source": [
    "print(detector.model_name)"
   ]
  },
  {
   "cell_type": "markdown",
   "id": "12200e52",
   "metadata": {},
   "source": [
    "The model name with `_insightscore` appended to it is used to reference the output value from the model"
   ]
  },
  {
   "cell_type": "code",
   "execution_count": null,
   "id": "07059428",
   "metadata": {},
   "outputs": [],
   "source": [
    "rules = [{\n",
    "        'ruleId': 'high_fraud_risk',\n",
    "        'expression': '$registration_model_insightscore > 900',\n",
    "        'outcomes': ['verify_outcome']\n",
    "    },\n",
    "    {\n",
    "        'ruleId': 'low_fraud_risk',\n",
    "        'expression': '$registration_model_insightscore <= 900 and $registration_model_insightscore > 700',\n",
    "        'outcomes': ['review_outcome']\n",
    "    },\n",
    "    {\n",
    "        'ruleId': 'no_fraud_risk',\n",
    "        'expression': '$registration_model_insightscore <= 700',\n",
    "        'outcomes': ['approve_outcome']\n",
    "    }\n",
    "]"
   ]
  },
  {
   "cell_type": "code",
   "execution_count": null,
   "id": "a4699093",
   "metadata": {},
   "outputs": [],
   "source": [
    "response = detector.deploy(rules_list=rules)"
   ]
  },
  {
   "cell_type": "code",
   "execution_count": null,
   "id": "a24740ba",
   "metadata": {},
   "outputs": [],
   "source": [
    "# Optional\n",
    "print(response)"
   ]
  },
  {
   "cell_type": "markdown",
   "id": "d4fa3c3c",
   "metadata": {},
   "source": [
    "# Get Predictions - `predict()` stage\n",
    "Use the `predict()` or `batch_predict()` methods to predict for a single event, passed in as a dictionary, or a batch of events passed in as a dataframe."
   ]
  },
  {
   "cell_type": "markdown",
   "id": "eb758052",
   "metadata": {},
   "source": [
    "**Example** Single event that triggers the `no_fraud_risk` rule resulting in an `approve_outcome`"
   ]
  },
  {
   "cell_type": "code",
   "execution_count": null,
   "id": "c2f25a8f",
   "metadata": {},
   "outputs": [],
   "source": [
    "event_variables = {\n",
    "    'email_address' : 'johndoe@gmail.com',\n",
    "    'ip_address' : '82:24:61:42'\n",
    "}\n",
    "detector.predict(\n",
    "    event_timestamp='2021-11-14T12:18:21Z',\n",
    "    event_variables=event_variables)"
   ]
  },
  {
   "cell_type": "markdown",
   "id": "9ac76fd9",
   "metadata": {},
   "source": [
    "#### Batch predict with list of events"
   ]
  },
  {
   "cell_type": "code",
   "execution_count": null,
   "id": "6fe6ac16",
   "metadata": {},
   "outputs": [],
   "source": [
    "events = [{\n",
    "        'EVENT_TIMESTAMP': '2021-11-14T12:18:21Z',\n",
    "        'email_address' : 'johndoe@gmail.com',\n",
    "        'ip_address' : '82:24:61:42'\n",
    "    },\n",
    "    {\n",
    "        'EVENT_TIMESTAMP': '2021-11-15T11:18:20Z',\n",
    "        'email_address' : 'janedoe@yahoo.com',\n",
    "        'ip_address' : '82:24:61:41'\n",
    "    }\n",
    "]\n",
    "detector.batch_predict(\n",
    "    timestamp='EVENT_TIMESTAMP',\n",
    "    events=events)"
   ]
  },
  {
   "cell_type": "markdown",
   "id": "dff2646b",
   "metadata": {},
   "source": [
    "#### Batch predict with Pandas DataFrame"
   ]
  },
  {
   "cell_type": "code",
   "execution_count": null,
   "id": "de61f378",
   "metadata": {},
   "outputs": [],
   "source": [
    "events = df.iloc[:100, :] # First 100 observations from the example DataFrame\n",
    "detector.batch_predict(\n",
    "    timestamp='EVENT_TIMESTAMP',\n",
    "    df=events)"
   ]
  },
  {
   "cell_type": "markdown",
   "id": "88a61455",
   "metadata": {},
   "source": [
    "# Destroy resources"
   ]
  },
  {
   "cell_type": "code",
   "execution_count": null,
   "id": "4e007898",
   "metadata": {},
   "outputs": [],
   "source": [
    "detector.delete_detector()"
   ]
  },
  {
   "cell_type": "code",
   "execution_count": null,
   "id": "c7df0845",
   "metadata": {},
   "outputs": [],
   "source": [
    "detector.rules"
   ]
  },
  {
   "cell_type": "code",
   "execution_count": null,
   "id": "5d6a9384",
   "metadata": {},
   "outputs": [],
   "source": [
    "rule_ids = [r['ruleId'] for r in detector.rules]"
   ]
  },
  {
   "cell_type": "code",
   "execution_count": null,
   "id": "e67bac96",
   "metadata": {},
   "outputs": [],
   "source": [
    "print(rule_ids)"
   ]
  },
  {
   "cell_type": "code",
   "execution_count": null,
   "id": "49a0bb41",
   "metadata": {},
   "outputs": [],
   "source": [
    "detector.delete_rules(detector.rules)"
   ]
  },
  {
   "cell_type": "code",
   "execution_count": null,
   "id": "d1206e8b",
   "metadata": {},
   "outputs": [],
   "source": [
    "detector.rules"
   ]
  },
  {
   "cell_type": "code",
   "execution_count": null,
   "id": "7e46b0ee",
   "metadata": {},
   "outputs": [],
   "source": [
    "detector.delete_detector_version()"
   ]
  },
  {
   "cell_type": "code",
   "execution_count": null,
   "id": "b92610a4",
   "metadata": {},
   "outputs": [],
   "source": [
    "#de-activate the model\n",
    "detector.set_model_version_inactive()"
   ]
  },
  {
   "cell_type": "code",
   "execution_count": null,
   "id": "21d83035",
   "metadata": {},
   "outputs": [],
   "source": [
    "print(detector.model_name)"
   ]
  },
  {
   "cell_type": "code",
   "execution_count": null,
   "id": "d9297933",
   "metadata": {},
   "outputs": [],
   "source": [
    "# get the model status - should be INACTIVE or TRAINING_COMPLETE before deleting it\n",
    "print(detector.model_status)"
   ]
  },
  {
   "cell_type": "code",
   "execution_count": null,
   "id": "48dcbec3",
   "metadata": {},
   "outputs": [],
   "source": [
    "#delete the model\n",
    "detector.delete_model()"
   ]
  },
  {
   "cell_type": "code",
   "execution_count": null,
   "id": "4ee472d3",
   "metadata": {},
   "outputs": [],
   "source": [
    "detector.delete_detector_version()"
   ]
  },
  {
   "cell_type": "code",
   "execution_count": null,
   "id": "b8c8495a",
   "metadata": {},
   "outputs": [],
   "source": [
    "detector.fd.delete_detector_version(detectorId=detector.detector_name, detectorVersionId=detector.detector_version)"
   ]
  }
 ],
 "metadata": {
  "kernelspec": {
   "display_name": "conda_python3",
   "language": "python",
   "name": "conda_python3"
  },
  "language_info": {
   "codemirror_mode": {
    "name": "ipython",
    "version": 3
   },
   "file_extension": ".py",
   "mimetype": "text/x-python",
   "name": "python",
   "nbconvert_exporter": "python",
   "pygments_lexer": "ipython3",
   "version": "3.6.13"
  }
 },
 "nbformat": 4,
 "nbformat_minor": 5
}
